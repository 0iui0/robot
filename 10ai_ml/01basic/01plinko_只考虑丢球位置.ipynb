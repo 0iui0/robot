{
 "cells": [
  {
   "cell_type": "markdown",
   "metadata": {},
   "source": [
    "## 1 基本的步骤\n",
    "\n",
    "简单起见，只考虑丢球位置\n",
    "\n",
    "问题： 我想预测在某个位置扔球，预测落入篮筐的位置，我应该怎么办。\n",
    "\n",
    "1. 在任意随机位置反复的扔球，收集大量的实验数据。\n",
    "2. 假设要预测300位置落入的篮筐， 需要找到离300最近的若干条（k）记录\n",
    "   * 计算每个球丢落位置与300的距离\n",
    "   * 把距离从小到大进行排序\n",
    "   * 选取最顶部的k条记录\n",
    "\n",
    "3. 看这k条记录中，落入到几号框概率最大\n",
    "\n"
   ]
  },
  {
   "cell_type": "code",
   "execution_count": null,
   "metadata": {},
   "outputs": [],
   "source": [
    "#1 加载假的数据\n",
    "import numpy as np\n",
    "data = np.array([\n",
    "    [0,1],\n",
    "    [150,2],\n",
    "    [200,3],\n",
    "    [275,4],\n",
    "    [325,4],\n",
    "    [375,4],\n",
    "    [450,5],\n",
    "    [500,5],\n",
    "    [550,5]\n",
    "])"
   ]
  },
  {
   "cell_type": "code",
   "execution_count": null,
   "metadata": {},
   "outputs": [],
   "source": [
    "#2 拆分数据， 拆分成输入（feature）和输出（label）\n",
    "feature = data[:,0]  # 拆分输入，每一行都是扔球的位置\n",
    "label = data[:,1] # 拆分输出，每一行代表的是丢入的篮筐\n",
    "\n",
    "# 定义预测的点， 位置是300\n",
    "predictPoint = 300"
   ]
  },
  {
   "cell_type": "code",
   "execution_count": null,
   "metadata": {},
   "outputs": [],
   "source": [
    "#3 计算每一个扔球的位置与300的距离\n",
    "diff_dis = np.abs(feature - predictPoint)\n",
    "diff_dis"
   ]
  },
  {
   "cell_type": "code",
   "execution_count": null,
   "metadata": {},
   "outputs": [],
   "source": [
    "#4 把距离从小大大进行排序, 返回其在原数据中的索引信息\n",
    "index = np.argsort(diff_dis)\n",
    "index"
   ]
  },
  {
   "cell_type": "code",
   "execution_count": null,
   "metadata": {},
   "outputs": [],
   "source": [
    "#5 选取前k 个的索引作为最终分析的数据\n",
    "k = 4  \n",
    "final_label = label[index[0:k]]\n",
    "final_label"
   ]
  },
  {
   "cell_type": "code",
   "execution_count": null,
   "metadata": {},
   "outputs": [],
   "source": [
    "#6 计算哪个筐出现的次数最多\n",
    "res = np.bincount(final_label) #计算数组中的数字 出现的个数 \n",
    "res"
   ]
  },
  {
   "cell_type": "code",
   "execution_count": null,
   "metadata": {},
   "outputs": [],
   "source": [
    "#7 打印输出\n",
    "print \"落在 %d框 的概率最大\"%(np.argmax(res))\n"
   ]
  },
  {
   "cell_type": "markdown",
   "metadata": {},
   "source": [
    "# 2 封装上面的步骤到一个函数中"
   ]
  },
  {
   "cell_type": "code",
   "execution_count": null,
   "metadata": {},
   "outputs": [],
   "source": [
    "# feature: dim = 1\n",
    "# label:dim = 1\n",
    "# predictPoint: 落点可以是小数\n",
    "# k: 整数\n",
    "def knn(feature,label,predictPoint,k):\n",
    "    diff_dis = np.abs(feature - predictPoint)\n",
    "    index = np.argsort(diff_dis)\n",
    "    final_label = label[index[0:k]].astype('int')  # 注 final_label里面的数据需要是整数，这样下面的 np.bincount 才可以使用\n",
    "    result = np.argmax(np.bincount(final_label))\n",
    "    return result\n"
   ]
  },
  {
   "cell_type": "code",
   "execution_count": null,
   "metadata": {},
   "outputs": [],
   "source": [
    "knn(feature,label,300,4)"
   ]
  },
  {
   "cell_type": "markdown",
   "metadata": {},
   "source": [
    "# 3 假数据跑通后，试下真实的数据"
   ]
  },
  {
   "cell_type": "code",
   "execution_count": null,
   "metadata": {},
   "outputs": [],
   "source": [
    "#1加载数据\n",
    "data = np.loadtxt('./data.csv',delimiter=',')\n",
    "data"
   ]
  },
  {
   "cell_type": "code",
   "execution_count": null,
   "metadata": {},
   "outputs": [],
   "source": [
    "#2 \n",
    "feature = data[:,0]\n",
    "label = data[:,3]"
   ]
  },
  {
   "cell_type": "code",
   "execution_count": null,
   "metadata": {},
   "outputs": [],
   "source": [
    "knn(feature,label,300,100) # k = 100"
   ]
  },
  {
   "cell_type": "markdown",
   "metadata": {},
   "source": [
    "# 4.1 其他：有关K值的选取 【k值 又称超级参数】"
   ]
  },
  {
   "cell_type": "code",
   "execution_count": null,
   "metadata": {},
   "outputs": [],
   "source": [
    "# 做实验来看一下k值应该如何选择\n",
    "# 取固定落下位置为300，k值从 1 -> 200 [总共的数据有1000多条]\n",
    "\n",
    "for k in range(1,201):\n",
    "    res = knn(feature,label,300,k)\n",
    "    print \"k值为 %d 时，从300落下，落入 %d号框概率大\"%(k,res)\n"
   ]
  },
  {
   "cell_type": "code",
   "execution_count": null,
   "metadata": {},
   "outputs": [],
   "source": []
  },
  {
   "cell_type": "code",
   "execution_count": null,
   "metadata": {},
   "outputs": [],
   "source": []
  },
  {
   "cell_type": "code",
   "execution_count": null,
   "metadata": {},
   "outputs": [],
   "source": []
  },
  {
   "cell_type": "code",
   "execution_count": null,
   "metadata": {},
   "outputs": [],
   "source": []
  },
  {
   "cell_type": "code",
   "execution_count": null,
   "metadata": {},
   "outputs": [],
   "source": []
  },
  {
   "cell_type": "code",
   "execution_count": null,
   "metadata": {},
   "outputs": [],
   "source": []
  },
  {
   "cell_type": "code",
   "execution_count": null,
   "metadata": {},
   "outputs": [],
   "source": []
  },
  {
   "cell_type": "code",
   "execution_count": null,
   "metadata": {},
   "outputs": [],
   "source": []
  }
 ],
 "metadata": {
  "kernelspec": {
   "display_name": "Python 2",
   "language": "python",
   "name": "python2"
  },
  "language_info": {
   "codemirror_mode": {
    "name": "ipython",
    "version": 2
   },
   "file_extension": ".py",
   "mimetype": "text/x-python",
   "name": "python",
   "nbconvert_exporter": "python",
   "pygments_lexer": "ipython2",
   "version": "2.7.17"
  }
 },
 "nbformat": 4,
 "nbformat_minor": 2
}
