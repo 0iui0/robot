{
 "cells": [
  {
   "cell_type": "markdown",
   "id": "found-participation",
   "metadata": {},
   "source": [
    "# Python 基础省略"
   ]
  },
  {
   "cell_type": "markdown",
   "id": "conditional-artwork",
   "metadata": {},
   "source": [
    "# Jupyter 基础配置"
   ]
  },
  {
   "cell_type": "markdown",
   "id": "fewer-politics",
   "metadata": {},
   "source": [
    "### Jupyter 字体主题：\n",
    "pip install jupyterthemes\n",
    "\n",
    "我使用的配置是：\n",
    "* jt -t onedork -f source -fs 14 -altp -tfs 14 -nfs 13 -ofs 13 -cellw 88%\n",
    "* jt -t onedork -f source -fs 14 -altp -tfs 14 -nfs 13 -ofs 13 -cellw 88%  -T\n",
    "\n",
    "* jt -t grade3 -f source -fs 14 -altp -tfs 14 -nfs 13 -ofs 13 -cellw 88%\n",
    "* jt -t grade3 -f source -fs 14 -altp -tfs 14 -nfs 13 -ofs 13 -cellw 88%  -T\n",
    "\n",
    "所有的主题：\n",
    "\n",
    "Available Themes:\n",
    "*   chesterish\n",
    "*   grade3\n",
    "*   gruvboxd\n",
    "*   gruvboxl\n",
    "*   monokai\n",
    "*   oceans16\n",
    "*   onedork\n",
    "*   solarizedd\n",
    "*   solarizedl\n",
    "\n",
    "\n",
    "jt -r 恢复原来的配置\n",
    "\n",
    "\n",
    "### Jupyter 插件安装:\n",
    "pip install jupyter_contrib_nbextensions\n",
    "\n",
    "具体看链接：https://github.com/ipython-contrib/jupyter_contrib_nbextensions\n",
    "\n",
    "\n",
    "\n",
    "\n"
   ]
  },
  {
   "cell_type": "markdown",
   "id": "thirty-overall",
   "metadata": {},
   "source": [
    "# 下面是一些单独的Jupyter 的练习（为了更熟悉Jupyter）\n",
    "伺服电机开发结束的开发结束的副科级圣诞快乐副驾驶的发奖金第三方进口量就发生的空间\n",
    "发生的健康福利可视对讲分开来\n",
    "发生的健康福利扣水电费\n",
    "\n",
    "\n",
    "## 二号标题\n",
    "\n",
    "\n",
    "\n",
    "### 三号标题 \n",
    "\n",
    "\n",
    "\n",
    "\n",
    "\n"
   ]
  },
  {
   "cell_type": "code",
   "execution_count": 2,
   "id": "decimal-ideal",
   "metadata": {
    "code_folding": []
   },
   "outputs": [
    {
     "data": {
      "text/plain": [
       "14"
      ]
     },
     "execution_count": 2,
     "metadata": {},
     "output_type": "execute_result"
    }
   ],
   "source": [
    "2 + 3 +9"
   ]
  },
  {
   "cell_type": "code",
   "execution_count": 2,
   "id": "funky-pillow",
   "metadata": {},
   "outputs": [
    {
     "data": {
      "text/plain": [
       "4"
      ]
     },
     "execution_count": 2,
     "metadata": {},
     "output_type": "execute_result"
    }
   ],
   "source": [
    "99 // 22"
   ]
  },
  {
   "cell_type": "code",
   "execution_count": 4,
   "id": "polish-diana",
   "metadata": {},
   "outputs": [],
   "source": [
    "name = \"tom\"\n",
    "age  = 18 "
   ]
  },
  {
   "cell_type": "code",
   "execution_count": 5,
   "id": "subsequent-boundary",
   "metadata": {},
   "outputs": [
    {
     "data": {
      "text/plain": [
       "'tom'"
      ]
     },
     "execution_count": 5,
     "metadata": {},
     "output_type": "execute_result"
    }
   ],
   "source": [
    "name"
   ]
  },
  {
   "cell_type": "code",
   "execution_count": 6,
   "id": "impressed-eclipse",
   "metadata": {},
   "outputs": [
    {
     "data": {
      "text/plain": [
       "18"
      ]
     },
     "execution_count": 6,
     "metadata": {},
     "output_type": "execute_result"
    }
   ],
   "source": [
    "age"
   ]
  },
  {
   "cell_type": "markdown",
   "id": "deadly-decision",
   "metadata": {},
   "source": [
    "## Markdown 练习"
   ]
  },
  {
   "cell_type": "markdown",
   "id": "impressive-morning",
   "metadata": {},
   "source": [
    "3个* 可以画出一个横线)\n",
    "***\n",
    "list01:\n",
    "* item01\n",
    "* item02\n",
    "* item03 \n",
    "***\n",
    "list02:\n",
    "1. item01\n",
    "1. item02\n",
    "1. item03\n",
    "\n",
    "***\n",
    "bold:\n",
    "\n",
    "**tom**\n",
    "\n",
    "***\n",
    "itealic:\n",
    "\n",
    "*tom*\n",
    "*** \n",
    "链接\n",
    "\n",
    "[百度](https://www.baidu.com)\n",
    "\n",
    "***\n",
    "具体的Markdown 学习见: \n",
    "\n",
    "1 [Markdown学习](https://www.w3cschool.cn/markdownyfsm/)\n",
    "\n",
    "2 [Markdown学习](https://www.runoob.com/markdown/md-table.html)\n",
    "\n",
    "\n",
    "\n",
    "\n",
    "\n",
    "\n",
    "\n",
    "\n",
    "\n",
    "\n",
    "\n",
    "\n",
    "\n"
   ]
  },
  {
   "cell_type": "code",
   "execution_count": null,
   "id": "criminal-neutral",
   "metadata": {},
   "outputs": [],
   "source": []
  }
 ],
 "metadata": {
  "kernelspec": {
   "display_name": "Python 3",
   "language": "python",
   "name": "python3"
  },
  "language_info": {
   "codemirror_mode": {
    "name": "ipython",
    "version": 3
   },
   "file_extension": ".py",
   "mimetype": "text/x-python",
   "name": "python",
   "nbconvert_exporter": "python",
   "pygments_lexer": "ipython3",
   "version": "3.8.5"
  },
  "toc": {
   "base_numbering": 1,
   "nav_menu": {},
   "number_sections": true,
   "sideBar": false,
   "skip_h1_title": false,
   "title_cell": "Table of Contents",
   "title_sidebar": "Contents",
   "toc_cell": false,
   "toc_position": {
    "height": "590.994px",
    "left": "1241px",
    "top": "289.116px",
    "width": "225.781px"
   },
   "toc_section_display": true,
   "toc_window_display": true
  }
 },
 "nbformat": 4,
 "nbformat_minor": 5
}
